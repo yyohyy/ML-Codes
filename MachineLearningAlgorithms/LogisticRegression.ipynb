{
 "cells": [
  {
   "cell_type": "code",
   "execution_count": 54,
   "id": "8aece692-897c-4907-885d-f09cc09eb255",
   "metadata": {},
   "outputs": [],
   "source": [
    "import numpy as np\n",
    "import matplotlib.pyplot as plt"
   ]
  },
  {
   "cell_type": "code",
   "execution_count": 55,
   "id": "e8ff39b3-3f46-41ad-a910-408d2a2c1ee4",
   "metadata": {},
   "outputs": [],
   "source": [
    "def sigmoid(x):\n",
    "    return 1 / (1 + np.exp(-x))"
   ]
  },
  {
   "cell_type": "code",
   "execution_count": 56,
   "id": "2ce9d83d-0766-44be-8755-221b8c0ac5d6",
   "metadata": {},
   "outputs": [],
   "source": [
    "def compute_loss(y, y_pred): #Binary Cross-Entropy Loss\n",
    "    return -(np.mean(y * np.log(y_pred) + (1 - y) * np.log(1 - y_pred)))"
   ]
  },
  {
   "cell_type": "code",
   "execution_count": 57,
   "id": "0c2e5078-992b-4009-815a-a32e37aa655b",
   "metadata": {},
   "outputs": [],
   "source": [
    "def logistic_regression(X, y, lr=0.01, num_iters = 10000):\n",
    "    m, n = X.shape\n",
    "    weights = np.zeros(n)\n",
    "    bias = 0\n",
    "    losses = []\n",
    "    params = []\n",
    "\n",
    "    for i in range(num_iters):\n",
    "        z = np.dot(X, weights) + bias\n",
    "        y_pred = sigmoid(z)\n",
    "        y_pred = np.clip(y_pred, 1e-15, 1 - 1e-15) \n",
    "        e = y_pred - y\n",
    "        dJ_dw = np.mean(np.dot(X.T,e))\n",
    "        dJ_db = np.mean(e)\n",
    "\n",
    "        weights -= lr * dJ_dw\n",
    "        bias -= lr * dJ_db\n",
    "\n",
    "        params.append([weights, bias])\n",
    "\n",
    "        loss = compute_loss(y,y_pred)\n",
    "        losses.append(loss)\n",
    "\n",
    "    return weights, bias, losses        "
   ]
  },
  {
   "cell_type": "code",
   "execution_count": null,
   "id": "be5e57de-a26e-4d31-80f9-b592b80a18ab",
   "metadata": {},
   "outputs": [],
   "source": [
    "def predict(X, weights, bias):\n",
    "    \"\"\"Predict probabilities and class labels for new data.\"\"\"\n",
    "    z = np.dot(X, weights) + bias\n",
    "    y_pred = sigmoid(z)\n",
    "    y_pred_labels = (y_pred >= 0.5).astype(int)\n",
    "    return y_pred, y_pred_labels"
   ]
  },
  {
   "cell_type": "code",
   "execution_count": 59,
   "id": "f37ba6b4-ed54-4b81-8c00-24407c177295",
   "metadata": {},
   "outputs": [],
   "source": [
    "np.random.seed(42)\n",
    "num_samples = 100\n",
    "X = np.random.rand(num_samples, 2) * 10  \n",
    "y = (X[:, 0] + X[:, 1] > 10).astype(int)"
   ]
  },
  {
   "cell_type": "code",
   "execution_count": 60,
   "id": "93cdbc2e-f4f2-4711-b04f-7fc74786608f",
   "metadata": {},
   "outputs": [
    {
     "name": "stdout",
     "output_type": "stream",
     "text": [
      "Final Weights: [0.72273381 0.72273381]\n",
      "Final Bias: -12.494771212933468\n"
     ]
    }
   ],
   "source": [
    "weights, bias, losses = logistic_regression(X, y)\n",
    "\n",
    "print(f\"Final Weights: {weights}\")\n",
    "print(f\"Final Bias: {bias}\")"
   ]
  },
  {
   "cell_type": "code",
   "execution_count": null,
   "id": "402ff240-b0ff-43f8-abe3-1a534c6dd3d8",
   "metadata": {},
   "outputs": [
    {
     "name": "stdout",
     "output_type": "stream",
     "text": [
      "\n",
      "Predicted probabilities: [7.71730673e-06 1.03042494e-05 4.65319851e-06]\n",
      "Predicted labels: [0 0 0]\n",
      "\n",
      "Training loss: 1.2363857447153042\n"
     ]
    }
   ],
   "source": [
    "\n",
    "new_data = np.array([[0.3, 0.7], [0.6, 0.8], [0.1, 0.2]])  \n",
    "y_pred, y_pred_labels = predict(new_data, weights, bias)\n",
    "\n",
    "print(\"\\nPredicted probabilities:\", y_pred)\n",
    "print(\"Predicted labels:\", y_pred_labels)\n",
    "\n",
    "y_train_pred, _ = predict(X, weights, bias)\n",
    "train_loss = compute_loss(y, y_train_pred)\n",
    "print(\"\\nTraining loss:\", train_loss)"
   ]
  },
  {
   "cell_type": "code",
   "execution_count": 74,
   "id": "2727f54a-82b2-415b-a028-2640d29732bf",
   "metadata": {},
   "outputs": [],
   "source": [
    "from sklearn.linear_model import LogisticRegression\n",
    "from sklearn.metrics import accuracy_score"
   ]
  },
  {
   "cell_type": "code",
   "execution_count": 71,
   "id": "426b3210-e011-4715-874b-eac62fd341ec",
   "metadata": {},
   "outputs": [
    {
     "name": "stdout",
     "output_type": "stream",
     "text": [
      "Final Weights: [[1.84351524 1.73785373]]\n",
      "Final Bias: [-18.2013827]\n"
     ]
    }
   ],
   "source": [
    "model = LogisticRegression()\n",
    "\n",
    "model.fit(X, y)\n",
    "y_pred = model.predict(X)\n",
    "\n",
    "print(f\"Final Weights: {model.coef_}\")\n",
    "print(f\"Final Bias: {model.intercept_}\")"
   ]
  },
  {
   "cell_type": "code",
   "execution_count": null,
   "id": "3aba7c13-b49f-4828-a971-d00fb7c95310",
   "metadata": {},
   "outputs": [
    {
     "name": "stdout",
     "output_type": "stream",
     "text": [
      "MSE: 0.47\n",
      "MAE: 0.47\n",
      "R²: -0.8830128205128207\n"
     ]
    }
   ],
   "source": [
    "from sklearn.metrics import mean_squared_error, mean_absolute_error, r2_score\n",
    "\n",
    "mse = mean_squared_error(y, y_pred)\n",
    "mae = mean_absolute_error(y, y_pred)\n",
    "r2 = r2_score(y, y_pred)\n",
    "\n",
    "print(f\"MSE: {mse}\")\n",
    "print(f\"MAE: {mae}\")\n",
    "print(f\"R²: {r2}\")"
   ]
  },
  {
   "cell_type": "code",
   "execution_count": null,
   "id": "ef67c3fb-d8d2-4f63-891a-28066880a5db",
   "metadata": {},
   "outputs": [
    {
     "data": {
      "image/png": "[encoded data removed]",
      "text/plain": [
       "<Figure size 800x500 with 1 Axes>"
      ]
     },
     "metadata": {},
     "output_type": "display_data"
    }
   ],
   "source": [
    "import numpy as np\n",
    "import matplotlib.pyplot as plt\n",
    "from sklearn.linear_model import SGDClassifier\n",
    "from sklearn.metrics import log_loss\n",
    "\n",
    "np.random.seed(0)\n",
    "X = np.random.rand(100, 2)  \n",
    "y = (X[:, 0] + X[:, 1] > 1).astype(int) \n",
    "\n",
    "model = SGDClassifier(loss='log_loss', max_iter=1, learning_rate='constant', eta0=0.1, random_state=0, warm_start=True)\n",
    "\n",
    "losses = [] \n",
    "\n",
    "for epoch in range(100): \n",
    "    model.partial_fit(X, y, classes=np.unique(y))  \n",
    "    y_pred_prob = model.predict_proba(X)[:, 1]  \n",
    "    loss = log_loss(y, y_pred_prob)  \n",
    "    losses.append(loss)\n",
    "\n",
    "plt.figure(figsize=(8, 5))\n",
    "plt.plot(range(1, len(losses) + 1), losses, marker='o', linestyle='-', color='b')\n",
    "plt.title(\"Loss vs. Iterations\")\n",
    "plt.xlabel(\"Iterations\")\n",
    "plt.ylabel(\"Log Loss\")\n",
    "plt.grid()\n",
    "plt.show()\n"
   ]
  }
 ],
 "metadata": {
  "kernelspec": {
   "display_name": "pytorch_env",
   "language": "python",
   "name": "pytorch_env"
  },
  "language_info": {
   "codemirror_mode": {
    "name": "ipython",
    "version": 3
   },
   "file_extension": ".py",
   "mimetype": "text/x-python",
   "name": "python",
   "nbconvert_exporter": "python",
   "pygments_lexer": "ipython3",
   "version": "3.12.7"
  }
 },
 "nbformat": 4,
 "nbformat_minor": 5
}
