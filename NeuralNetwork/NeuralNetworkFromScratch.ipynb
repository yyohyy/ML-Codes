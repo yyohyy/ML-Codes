{
 "cells": [
  {
   "cell_type": "code",
   "execution_count": 55,
   "id": "5065e6aa-c2be-4c58-bea5-0d90f01b9930",
   "metadata": {},
   "outputs": [],
   "source": [
    "import numpy as np"
   ]
  },
  {
   "cell_type": "code",
   "execution_count": 56,
   "id": "5d9a73ec-253f-4847-85b0-d42d624b5873",
   "metadata": {},
   "outputs": [],
   "source": [
    "inputs = [[1, 2, 3, 2.5],\n",
    "          [2.0,5.0, -1.0, 2.0],\n",
    "          [-1.5, 2.7, 3.3, -0.8]]\n",
    "weights1 = [[0.2, 0.8, -0.5, 1.0], \n",
    "           [0.5, -0.91, 0.26, -0.5], \n",
    "           [-0.26, -0.27, 0.17, 0.87]]\n",
    "biases1 = [2, 3, 0.5]\n",
    "weights2 = [[0.1, -0.14, 0.5], \n",
    "           [-0.5, 0.12, -0.33], \n",
    "           [-0.44, 0.73, -0.13]]\n",
    "biases2 = [-1, 2, -0.5]"
   ]
  },
  {
   "cell_type": "code",
   "execution_count": 57,
   "id": "eec0acc3-0ac8-428d-a6ea-ce379e90418a",
   "metadata": {},
   "outputs": [
    {
     "name": "stdout",
     "output_type": "stream",
     "text": [
      "[[ 0.5031  -1.04185 -2.03875]\n",
      " [ 0.2434  -2.7332  -5.7633 ]\n",
      " [-0.99314  1.41254 -0.35655]]\n"
     ]
    }
   ],
   "source": [
    "layer1_output = np.dot(inputs, np.array(weights1).T) + biases1\n",
    "layer2_output = np.dot(layer1_output, np.array(weights2).T) + biases2\n",
    "print(layer2_output)"
   ]
  },
  {
   "cell_type": "markdown",
   "id": "76de8e51-3632-4a49-af95-32b2f9b4d730",
   "metadata": {},
   "source": [
    "#### ReLU Activation"
   ]
  },
  {
   "cell_type": "code",
   "execution_count": 58,
   "id": "86c88c26-1b71-4318-b61a-74e68e10e9f2",
   "metadata": {},
   "outputs": [],
   "source": [
    "inputs = [0, 2, -1, 3.3, -2.7, 1,1, 2.2, -100]\n",
    "output = []"
   ]
  },
  {
   "cell_type": "code",
   "execution_count": 59,
   "id": "1d0347c6-82e1-4e11-a733-2300fdaf7ad0",
   "metadata": {},
   "outputs": [
    {
     "name": "stdout",
     "output_type": "stream",
     "text": [
      "[0, 2, 0, 3.3, 0, 1, 1, 2.2, 0]\n"
     ]
    }
   ],
   "source": [
    "for i in inputs:\n",
    "    output.append(max(0,i))\n",
    "print(output)"
   ]
  },
  {
   "cell_type": "markdown",
   "id": "b8e7364f-eaba-4a33-b44a-eedd05b0ad0b",
   "metadata": {},
   "source": [
    "#### Softmax Activation"
   ]
  },
  {
   "cell_type": "code",
   "execution_count": 60,
   "id": "60b0e478-20bf-464a-8b86-30854718d493",
   "metadata": {},
   "outputs": [],
   "source": [
    "layer_outputs = [4.8, 1.21, 2.385]"
   ]
  },
  {
   "cell_type": "code",
   "execution_count": 61,
   "id": "70c130d1-39a2-4636-a3c5-59343680e426",
   "metadata": {},
   "outputs": [],
   "source": [
    "import math\n",
    "E = math.e"
   ]
  },
  {
   "cell_type": "code",
   "execution_count": 62,
   "id": "70be5d24-f003-46c9-9713-c0844bcc203a",
   "metadata": {},
   "outputs": [
    {
     "name": "stdout",
     "output_type": "stream",
     "text": [
      "[121.51041751873483, 3.353484652549023, 10.859062664920513]\n"
     ]
    }
   ],
   "source": [
    "exp_values = []\n",
    "for output in layer_outputs:\n",
    "    exp_values.append(E**output)\n",
    "print(exp_values)"
   ]
  },
  {
   "cell_type": "code",
   "execution_count": 63,
   "id": "e30b847e-42f8-4d31-b97f-1b29e52c2627",
   "metadata": {},
   "outputs": [
    {
     "name": "stdout",
     "output_type": "stream",
     "text": [
      "[0.8952826639572619, 0.024708306782099374, 0.0800090292606387]\n",
      "0.9999999999999999\n"
     ]
    }
   ],
   "source": [
    "norm_base = sum(exp_values)\n",
    "norm_values = []\n",
    "\n",
    "for value in exp_values:\n",
    "    norm_values.append(value/ norm_base)\n",
    "print(norm_values)\n",
    "print(sum(norm_values))"
   ]
  },
  {
   "cell_type": "code",
   "execution_count": 64,
   "id": "434f0d35-3533-4191-8cef-7b9fa97064c6",
   "metadata": {},
   "outputs": [],
   "source": [
    "layer_outputs = [[4.8, 1.21, 2.385],\n",
    "                [8.9, -1.81, 0.2],\n",
    "                [1.41, 1.051, 0.026]]"
   ]
  },
  {
   "cell_type": "code",
   "execution_count": 65,
   "id": "0e6678ba-0d43-4a9b-bde1-eb0254860041",
   "metadata": {},
   "outputs": [],
   "source": [
    "exp_values = np.exp(layer_outputs)\n",
    "norm_values = exp_values / np.sum(exp_values, axis=1, keepdims=True)"
   ]
  },
  {
   "cell_type": "code",
   "execution_count": 66,
   "id": "893d65f8-eb8a-4de6-aef4-ca899c82148d",
   "metadata": {},
   "outputs": [
    {
     "name": "stdout",
     "output_type": "stream",
     "text": [
      "[[1.21510418e+02 3.35348465e+00 1.08590627e+01]\n",
      " [7.33197354e+03 1.63654137e-01 1.22140276e+00]\n",
      " [4.09595540e+00 2.86051020e+00 1.02634095e+00]]\n",
      "[[8.95282664e-01 2.47083068e-02 8.00090293e-02]\n",
      " [9.99811129e-01 2.23163963e-05 1.66554348e-04]\n",
      " [5.13097164e-01 3.58333899e-01 1.28568936e-01]]\n"
     ]
    }
   ],
   "source": [
    "print(exp_values)\n",
    "print(norm_values)"
   ]
  },
  {
   "cell_type": "markdown",
   "id": "aa732919-56af-4362-9647-56360b11679c",
   "metadata": {},
   "source": [
    "#### Categorical Cross-Entropy"
   ]
  },
  {
   "cell_type": "code",
   "execution_count": 67,
   "id": "0c2c09d5-e90e-4137-a70c-de5010e3fbfa",
   "metadata": {},
   "outputs": [
    {
     "name": "stdout",
     "output_type": "stream",
     "text": [
      "0.35667494393873245\n"
     ]
    }
   ],
   "source": [
    "import math\n",
    "\n",
    "softmax_output = [0.7, 0.1, 0.2]\n",
    "target_output = [1, 0, 0]\n",
    "\n",
    "loss = -(math.log(softmax_output[0])*target_output[0] +\n",
    "         math.log(softmax_output[1])*target_output[1] +\n",
    "         math.log(softmax_output[2])*target_output[2])\n",
    "\n",
    "print(loss)"
   ]
  },
  {
   "cell_type": "code",
   "execution_count": 68,
   "id": "28f2b5af-8d54-4a11-a2c4-d812300e1d56",
   "metadata": {},
   "outputs": [
    {
     "name": "stdout",
     "output_type": "stream",
     "text": [
      "0.35667494393873245\n"
     ]
    }
   ],
   "source": [
    "loss = -math.log(softmax_output[0])\n",
    "print(loss)"
   ]
  },
  {
   "cell_type": "code",
   "execution_count": 69,
   "id": "e8c7241f-dd95-4d42-962c-05ffe1f76377",
   "metadata": {},
   "outputs": [
    {
     "name": "stdout",
     "output_type": "stream",
     "text": [
      "[[0.35667494 0.69314718 0.10536052]]\n"
     ]
    }
   ],
   "source": [
    "softmax_outputs = np.array([[0.7, 0.1, 0.2],\n",
    "                            [0.1, 0.5, 0.4],\n",
    "                            [0.02, 0.9, 0.08]])\n",
    "\n",
    "class_targets = [0, 1, 1]\n",
    "\n",
    "print(-np.log(softmax_outputs[[0, 1, 2] , [class_targets]]))"
   ]
  },
  {
   "cell_type": "markdown",
   "id": "30872c23-2eec-4645-af6c-61954bd26bd0",
   "metadata": {},
   "source": [
    "### Final Structured Approach"
   ]
  },
  {
   "cell_type": "code",
   "execution_count": 70,
   "id": "5a2be414-7be9-43c5-ad25-e741567f521c",
   "metadata": {},
   "outputs": [],
   "source": [
    "from nnfs.datasets import spiral_data\n",
    "X, y = spiral_data (samples=100, classes=3)"
   ]
  },
  {
   "cell_type": "code",
   "execution_count": 71,
   "id": "a74125d9-c3a3-4e34-9d27-1b12776c70bd",
   "metadata": {},
   "outputs": [],
   "source": [
    "# np.random.seed(0)\n",
    "# X = [[1, 2, 3, 2.5],\n",
    "#     [2.0,5.0, -1.0, 2.0],\n",
    "#     [-1.5, 2.7, 3.3, -0.8]]"
   ]
  },
  {
   "cell_type": "code",
   "execution_count": 72,
   "id": "303fd0c0-b3e0-4212-a0a2-f1b8c99acfe0",
   "metadata": {},
   "outputs": [],
   "source": [
    "class DenseLayer:\n",
    "    def __init__(self, n_inputs, n_neurons):\n",
    "        self.weights = 0.10 * np.random.randn(n_inputs, n_neurons)\n",
    "        self.biases = np.zeros((1,n_neurons))\n",
    "    def forward(self, inputs):\n",
    "        self.output = np.dot(inputs, self.weights) + self.biases"
   ]
  },
  {
   "cell_type": "code",
   "execution_count": 73,
   "id": "0b72d920-d431-4685-8943-fe251bf81eb7",
   "metadata": {},
   "outputs": [],
   "source": [
    "class ActivationReLU:\n",
    "    def forward(self, inputs):\n",
    "        self.output = np.maximum(0, inputs)"
   ]
  },
  {
   "cell_type": "code",
   "execution_count": 74,
   "id": "ef9cd876-2c8e-4536-8842-3778a9c6eab7",
   "metadata": {},
   "outputs": [],
   "source": [
    "class ActivationSoftMax:\n",
    "    def forward(self, inputs):\n",
    "        exp_values = np.exp(inputs - np.max(inputs, axis=1, keepdims=True))\n",
    "        probabilities = exp_values / np.sum(exp_values, axis=1, keepdims=True)\n",
    "        self.output = probabilities"
   ]
  },
  {
   "cell_type": "code",
   "execution_count": 75,
   "id": "d18052ce-9979-4922-be28-673fa3963313",
   "metadata": {},
   "outputs": [],
   "source": [
    "class Loss:\n",
    "    def calculate(self, output, y):\n",
    "        sample_losses = self.forward(output, y)\n",
    "        data_loss = np.mean(sample_losses)\n",
    "        return data_loss\n",
    "\n",
    "class CategoricalCrossEntropy(Loss):\n",
    "    def forward(self, y_pred, y_true):\n",
    "        samples = len(y_pred)\n",
    "        y_pred_clipped = np.clip(y_pred, 1e-7, 1-1e-7)\n",
    "\n",
    "        if len(y_true.shape) == 1:\n",
    "            correct_confidences = y_pred_clipped[range(samples), y_true]\n",
    "        elif len(y_true.shape) == 2:\n",
    "            correct_confidences = np.sum(y_pred_clipped * y_true, axis=1)\n",
    "\n",
    "        negative_log_likelihoods = -np.log(correct_confidences)\n",
    "        return negative_log_likelihoods            "
   ]
  },
  {
   "cell_type": "code",
   "execution_count": 76,
   "id": "f30c458e-d4c7-4197-9a5b-6115f817fadd",
   "metadata": {},
   "outputs": [],
   "source": [
    "dense1 = DenseLayer(2,3)\n",
    "activation1 = ActivationReLU()\n",
    "dense2 = DenseLayer(3,3)\n",
    "activation2 = ActivationSoftMax()"
   ]
  },
  {
   "cell_type": "code",
   "execution_count": 77,
   "id": "2785b615-3c52-4b5b-b6a1-599c1ed3822e",
   "metadata": {},
   "outputs": [],
   "source": [
    "dense1.forward(X)\n",
    "activation1.forward(dense1.output)\n",
    "\n",
    "dense2.forward(activation1.output)\n",
    "activation2.forward(dense2.output)"
   ]
  },
  {
   "cell_type": "code",
   "execution_count": 78,
   "id": "a8647152-bd77-4bd3-bfa8-80045660130b",
   "metadata": {},
   "outputs": [],
   "source": [
    "loss_function = CategoricalCrossEntropy()\n",
    "loss = loss_function.calculate(activation2.output, y)"
   ]
  },
  {
   "cell_type": "code",
   "execution_count": 79,
   "id": "abbc96b1-99a5-4b8d-88d8-95dffe551a10",
   "metadata": {},
   "outputs": [
    {
     "name": "stdout",
     "output_type": "stream",
     "text": [
      "Loss: 1.098530900186496\n"
     ]
    }
   ],
   "source": [
    "print(\"Loss:\", loss)"
   ]
  }
 ],
 "metadata": {
  "kernelspec": {
   "display_name": "pytorch_env",
   "language": "python",
   "name": "pytorch_env"
  },
  "language_info": {
   "codemirror_mode": {
    "name": "ipython",
    "version": 3
   },
   "file_extension": ".py",
   "mimetype": "text/x-python",
   "name": "python",
   "nbconvert_exporter": "python",
   "pygments_lexer": "ipython3",
   "version": "3.12.7"
  }
 },
 "nbformat": 4,
 "nbformat_minor": 5
}
