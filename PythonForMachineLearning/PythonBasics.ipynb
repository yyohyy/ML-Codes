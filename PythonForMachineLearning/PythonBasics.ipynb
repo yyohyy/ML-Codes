{
 "cells": [
  {
   "cell_type": "markdown",
   "id": "3ccfc3f7-ca67-492e-89d8-9262c60cff97",
   "metadata": {},
   "source": [
    "PYTHON BASICS"
   ]
  },
  {
   "cell_type": "code",
   "execution_count": null,
   "id": "14fa8ae9-b968-4a12-b5d3-0a9fb18c4e67",
   "metadata": {},
   "outputs": [],
   "source": [
    "name= 'Jose'\n",
    "age=22\n",
    "\n",
    "print(\"My name is {}. My age is {}\".format(name,age))"
   ]
  },
  {
   "cell_type": "code",
   "execution_count": 18,
   "id": "d91c8402-91b2-4fd6-8b46-0601c4d94c8a",
   "metadata": {},
   "outputs": [
    {
     "name": "stdout",
     "output_type": "stream",
     "text": [
      "banana\n"
     ]
    }
   ],
   "source": [
    "mylist=['apple','banana','cherry']\n",
    "print(mylist[1])"
   ]
  },
  {
   "cell_type": "code",
   "execution_count": 10,
   "id": "4e2cd89c-62af-4d93-b20b-a55a434739f8",
   "metadata": {},
   "outputs": [
    {
     "name": "stdout",
     "output_type": "stream",
     "text": [
      "emordnilap\n"
     ]
    }
   ],
   "source": [
    "word='palindrome'\n",
    "print(word[::-1])"
   ]
  },
  {
   "cell_type": "code",
   "execution_count": 19,
   "id": "43b139e5-61e6-4919-858b-d70f841d2d54",
   "metadata": {},
   "outputs": [
    {
     "data": {
      "text/plain": [
       "['apple', 'banana', 'cherry', 'dragonfruit']"
      ]
     },
     "execution_count": 19,
     "metadata": {},
     "output_type": "execute_result"
    }
   ],
   "source": [
    "mylist.append('dragonfruit')\n",
    "mylist"
   ]
  },
  {
   "cell_type": "code",
   "execution_count": 22,
   "id": "a9098b0f-150a-4138-8472-d019afd17f4e",
   "metadata": {},
   "outputs": [
    {
     "data": {
      "text/plain": [
       "'value1'"
      ]
     },
     "execution_count": 22,
     "metadata": {},
     "output_type": "execute_result"
    }
   ],
   "source": [
    "d={'key1':'value1','key2':2}\n",
    "d['key1']"
   ]
  },
  {
   "cell_type": "code",
   "execution_count": 26,
   "id": "51d01e05-8834-4f76-afab-16ccc7bdd383",
   "metadata": {},
   "outputs": [
    {
     "data": {
      "text/plain": [
       "('hello', 'hey', 'hi', 'hello')"
      ]
     },
     "execution_count": 26,
     "metadata": {},
     "output_type": "execute_result"
    }
   ],
   "source": [
    "set=('hello','hey','hi','hello')\n",
    "set\n"
   ]
  },
  {
   "cell_type": "code",
   "execution_count": 25,
   "id": "dc5abd47-7b36-422f-89a7-79cf960e7d9b",
   "metadata": {},
   "outputs": [
    {
     "data": {
      "text/plain": [
       "['one', 'two', 'three']"
      ]
     },
     "execution_count": 25,
     "metadata": {},
     "output_type": "execute_result"
    }
   ],
   "source": [
    "tuples=['one','two','three']\n",
    "tuples\n"
   ]
  },
  {
   "cell_type": "markdown",
   "id": "2f605c5a-ea51-49cb-8a95-33062424de8a",
   "metadata": {},
   "source": [
    "Tuples are immutable \n",
    "Lists are mutable\n",
    "Sets are unordered and cannot hold duplicate values\n"
   ]
  },
  {
   "cell_type": "code",
   "execution_count": 27,
   "id": "1ca4d6ea-a00f-47d4-9a6b-fc3891c940a7",
   "metadata": {},
   "outputs": [
    {
     "data": {
      "text/plain": [
       "False"
      ]
     },
     "execution_count": 27,
     "metadata": {},
     "output_type": "execute_result"
    }
   ],
   "source": [
    "1 > 2\n"
   ]
  },
  {
   "cell_type": "code",
   "execution_count": 28,
   "id": "0cc1e110-d699-45c5-81bc-e7fcebbfec6d",
   "metadata": {},
   "outputs": [
    {
     "name": "stdout",
     "output_type": "stream",
     "text": [
      "True\n"
     ]
    }
   ],
   "source": [
    "if 1==1:\n",
    "    print('True')"
   ]
  },
  {
   "cell_type": "code",
   "execution_count": 33,
   "id": "c19db9f8-922f-436b-bba7-8666b136a662",
   "metadata": {},
   "outputs": [
    {
     "name": "stdout",
     "output_type": "stream",
     "text": [
      "The second condition is true.\n"
     ]
    }
   ],
   "source": [
    "if 1==2:\n",
    "    print('True')\n",
    "elif 2==2:\n",
    "    print('The second condition is true.')\n",
    "else:\n",
    "    print('False')\n",
    "        "
   ]
  },
  {
   "cell_type": "code",
   "execution_count": 34,
   "id": "d91c24b7-8a6a-43da-940f-a078595b74b7",
   "metadata": {},
   "outputs": [
    {
     "name": "stdout",
     "output_type": "stream",
     "text": [
      "1\n",
      "2\n",
      "3\n",
      "4\n",
      "5\n"
     ]
    }
   ],
   "source": [
    "items=[1,2,3,4,5]\n",
    "for item in items:\n",
    "    print(item)"
   ]
  },
  {
   "cell_type": "code",
   "execution_count": 40,
   "id": "37a1c4bd-3ebf-48f5-bd48-fbcecbee825d",
   "metadata": {},
   "outputs": [
    {
     "name": "stdout",
     "output_type": "stream",
     "text": [
      "0\n",
      "1\n",
      "1\n",
      "2\n",
      "2\n",
      "3\n",
      "3\n",
      "4\n",
      "4\n",
      "5\n"
     ]
    }
   ],
   "source": [
    "for i, item in enumerate(items):\n",
    "    print(i) \n",
    "    print(item)"
   ]
  },
  {
   "cell_type": "code",
   "execution_count": 42,
   "id": "821592de-6c99-41b2-8056-4b91cb04d9e2",
   "metadata": {},
   "outputs": [
    {
     "name": "stdout",
     "output_type": "stream",
     "text": [
      "i is 1\n",
      "i is 2\n",
      "i is 3\n",
      "i is 4\n"
     ]
    }
   ],
   "source": [
    "i=1\n",
    "while i<5:\n",
    "    print ('i is {}'.format(i))\n",
    "    i=i+1"
   ]
  },
  {
   "cell_type": "code",
   "execution_count": 48,
   "id": "af67827d-4b0d-47ca-b95b-7a7c3c7ec638",
   "metadata": {},
   "outputs": [
    {
     "data": {
      "text/plain": [
       "[2, 3, 4]"
      ]
     },
     "execution_count": 48,
     "metadata": {},
     "output_type": "execute_result"
    }
   ],
   "source": [
    "list(range(2,5))"
   ]
  },
  {
   "cell_type": "code",
   "execution_count": 49,
   "id": "2c64d4c1-6cd3-494f-a9fd-6085f609c034",
   "metadata": {},
   "outputs": [
    {
     "name": "stdout",
     "output_type": "stream",
     "text": [
      "hey\n",
      "hey\n",
      "hey\n"
     ]
    }
   ],
   "source": [
    "for i in range(0,3):\n",
    "    print('hey')"
   ]
  },
  {
   "cell_type": "code",
   "execution_count": 51,
   "id": "5263a5ba-c7a2-4de6-a6e3-205360c298c7",
   "metadata": {},
   "outputs": [],
   "source": [
    "x=[1,2,3,4,5]\n"
   ]
  },
  {
   "cell_type": "code",
   "execution_count": 53,
   "id": "9ccab6ce-a3af-44bb-9269-429b29e60c73",
   "metadata": {},
   "outputs": [
    {
     "name": "stdout",
     "output_type": "stream",
     "text": [
      "[1, 4, 9, 16, 25]\n"
     ]
    }
   ],
   "source": [
    "out= []\n",
    "for num in x:\n",
    "    out.append(num*num)\n",
    "print(out)    "
   ]
  },
  {
   "cell_type": "code",
   "execution_count": 56,
   "id": "d5ecad64-311c-46bb-b73b-65b09c8660f1",
   "metadata": {},
   "outputs": [
    {
     "name": "stdout",
     "output_type": "stream",
     "text": [
      "[1, 4, 9, 16, 25]\n"
     ]
    }
   ],
   "source": [
    "listComprehension=[num**2 for num in x]\n",
    "print(listComprehension)\n"
   ]
  },
  {
   "cell_type": "code",
   "execution_count": 57,
   "id": "6b98bbb3-00f4-44bc-81fa-3a414a0599fb",
   "metadata": {},
   "outputs": [
    {
     "name": "stdout",
     "output_type": "stream",
     "text": [
      "Function called\n"
     ]
    }
   ],
   "source": [
    "def func():\n",
    "    print(\"Function called\")\n",
    "func()    "
   ]
  },
  {
   "cell_type": "code",
   "execution_count": 65,
   "id": "b8b55b1c-8f72-4d90-9612-783cb380cb44",
   "metadata": {},
   "outputs": [
    {
     "name": "stdout",
     "output_type": "stream",
     "text": [
      "Hey Jose\n"
     ]
    }
   ],
   "source": [
    "def printing(name='Adam'):\n",
    "    '''\n",
    "    This prints out the user name.\n",
    "    '''\n",
    "    print('Hey '+ name)\n",
    "printing('Jose')    \n",
    "    "
   ]
  },
  {
   "cell_type": "code",
   "execution_count": 64,
   "id": "11c8ce1d-33a5-4d69-aed9-6712d223e4c9",
   "metadata": {},
   "outputs": [
    {
     "name": "stdout",
     "output_type": "stream",
     "text": [
      "Hey Adam\n"
     ]
    }
   ],
   "source": [
    "printing()"
   ]
  },
  {
   "cell_type": "code",
   "execution_count": 69,
   "id": "2ff0c86f-d675-4b68-8f8e-bba6d617d86e",
   "metadata": {},
   "outputs": [
    {
     "name": "stdout",
     "output_type": "stream",
     "text": [
      "The square of 2 is: \n",
      "4\n"
     ]
    }
   ],
   "source": [
    "def square(x):\n",
    "    print('The square of {} is: '.format(x))\n",
    "    return x**2\n",
    "s=square(2)\n",
    "print(s)"
   ]
  },
  {
   "cell_type": "code",
   "execution_count": 73,
   "id": "d387e172-f3c0-4d89-a3c0-7c705a03e2bc",
   "metadata": {},
   "outputs": [
    {
     "name": "stdout",
     "output_type": "stream",
     "text": [
      "4\n"
     ]
    }
   ],
   "source": [
    "x=lambda var: var**2\n",
    "print(x(2))"
   ]
  },
  {
   "cell_type": "code",
   "execution_count": 75,
   "id": "86ab2bf2-ef08-4a22-a049-c63b2fe08e88",
   "metadata": {},
   "outputs": [
    {
     "data": {
      "text/plain": [
       "['Hey ', 'Ram']"
      ]
     },
     "execution_count": 75,
     "metadata": {},
     "output_type": "execute_result"
    }
   ],
   "source": [
    "s= 'Hey #Ram'\n",
    "s.split('#')"
   ]
  },
  {
   "cell_type": "code",
   "execution_count": 76,
   "id": "3b37691e-2c72-4593-a512-219fb472ab33",
   "metadata": {},
   "outputs": [
    {
     "data": {
      "text/plain": [
       "'Ram'"
      ]
     },
     "execution_count": 76,
     "metadata": {},
     "output_type": "execute_result"
    }
   ],
   "source": [
    "s.split('#')[-1]\n"
   ]
  },
  {
   "cell_type": "code",
   "execution_count": 77,
   "id": "f42b562f-2b05-42a5-8377-9d5fbe1aef15",
   "metadata": {},
   "outputs": [
    {
     "data": {
      "text/plain": [
       "dict_keys(['k1', 'k2'])"
      ]
     },
     "execution_count": 77,
     "metadata": {},
     "output_type": "execute_result"
    }
   ],
   "source": [
    "d={'k1':'v1','k2':'v2'}\n",
    "d.keys()\n"
   ]
  },
  {
   "cell_type": "code",
   "execution_count": 78,
   "id": "f90648a5-7a4e-49f7-afb9-cbb93f26262c",
   "metadata": {},
   "outputs": [
    {
     "data": {
      "text/plain": [
       "dict_items([('k1', 'v1'), ('k2', 'v2')])"
      ]
     },
     "execution_count": 78,
     "metadata": {},
     "output_type": "execute_result"
    }
   ],
   "source": [
    "d.items()"
   ]
  },
  {
   "cell_type": "code",
   "execution_count": 79,
   "id": "6204cf9e-128c-465d-98ec-26538b9e011f",
   "metadata": {},
   "outputs": [
    {
     "data": {
      "text/plain": [
       "dict_values(['v1', 'v2'])"
      ]
     },
     "execution_count": 79,
     "metadata": {},
     "output_type": "execute_result"
    }
   ],
   "source": [
    "d.values()"
   ]
  },
  {
   "cell_type": "code",
   "execution_count": 80,
   "id": "9ff72a98-dc93-42a0-afac-74221fe19ac4",
   "metadata": {},
   "outputs": [
    {
     "name": "stdout",
     "output_type": "stream",
     "text": [
      "3\n"
     ]
    }
   ],
   "source": [
    "mylist=[1,2,3]\n",
    "last=mylist.pop()\n",
    "print(last)\n"
   ]
  },
  {
   "cell_type": "code",
   "execution_count": 81,
   "id": "c6805fda-b238-4d1e-a3bb-3c54429536af",
   "metadata": {},
   "outputs": [
    {
     "name": "stdout",
     "output_type": "stream",
     "text": [
      "[1, 2]\n"
     ]
    }
   ],
   "source": [
    "print(mylist)\n"
   ]
  },
  {
   "cell_type": "code",
   "execution_count": 82,
   "id": "c49792bd-d0cb-4400-81eb-41725ef6adcc",
   "metadata": {},
   "outputs": [
    {
     "data": {
      "text/plain": [
       "1"
      ]
     },
     "execution_count": 82,
     "metadata": {},
     "output_type": "execute_result"
    }
   ],
   "source": [
    "mylist=[1,2,3,4]\n",
    "mylist.pop(0)"
   ]
  },
  {
   "cell_type": "code",
   "execution_count": 83,
   "id": "197443fa-dd76-439c-aeca-231775379e9b",
   "metadata": {},
   "outputs": [
    {
     "data": {
      "text/plain": [
       "[2, 3, 4]"
      ]
     },
     "execution_count": 83,
     "metadata": {},
     "output_type": "execute_result"
    }
   ],
   "source": [
    "mylist\n"
   ]
  },
  {
   "cell_type": "code",
   "execution_count": 84,
   "id": "02c6bfbc-5b58-42c9-9191-876030ec8ceb",
   "metadata": {},
   "outputs": [
    {
     "data": {
      "text/plain": [
       "False"
      ]
     },
     "execution_count": 84,
     "metadata": {},
     "output_type": "execute_result"
    }
   ],
   "source": [
    "'x' in mylist"
   ]
  }
 ],
 "metadata": {
  "kernelspec": {
   "display_name": "Python 3 (ipykernel)",
   "language": "python",
   "name": "python3"
  },
  "language_info": {
   "codemirror_mode": {
    "name": "ipython",
    "version": 3
   },
   "file_extension": ".py",
   "mimetype": "text/x-python",
   "name": "python",
   "nbconvert_exporter": "python",
   "pygments_lexer": "ipython3",
   "version": "3.11.7"
  }
 },
 "nbformat": 4,
 "nbformat_minor": 5
}
